{
 "cells": [
  {
   "cell_type": "code",
   "execution_count": 1,
   "metadata": {
    "ExecuteTime": {
     "end_time": "2022-04-29T23:49:20.460853Z",
     "start_time": "2022-04-29T23:49:15.243337Z"
    }
   },
   "outputs": [],
   "source": [
    "import warnings\n",
    "warnings.filterwarnings('ignore')\n",
    "\n",
    "import numpy as np\n",
    "import pandas as pd\n",
    "import matplotlib.pyplot as plt\n",
    "import seaborn as sns\n",
    "from sklearn import preprocessing\n",
    "from sklearn.preprocessing import StandardScaler\n",
    "from sklearn.model_selection import train_test_split\n",
    "from keras.layers import Dense, BatchNormalization, Dropout, LSTM\n",
    "from keras.models import Sequential\n",
    "from keras import callbacks\n",
    "from sklearn.metrics import precision_score, recall_score, confusion_matrix, classification_report, accuracy_score, f1_score"
   ]
  },
  {
   "cell_type": "markdown",
   "metadata": {},
   "source": [
    "Use 'remaining_behavior_ext.csv' as my API anomaly detection dataset. This is a unlabled dataset which contains 11 features, one 'id' column, and over 30k rows of samples."
   ]
  },
  {
   "cell_type": "code",
   "execution_count": 2,
   "metadata": {
    "ExecuteTime": {
     "end_time": "2022-04-29T23:49:21.793166Z",
     "start_time": "2022-04-29T23:49:21.695188Z"
    }
   },
   "outputs": [
    {
     "name": "stdout",
     "output_type": "stream",
     "text": [
      "There are 34423 rows and 12 columns\n"
     ]
    },
    {
     "data": {
      "text/html": [
       "<div>\n",
       "<style scoped>\n",
       "    .dataframe tbody tr th:only-of-type {\n",
       "        vertical-align: middle;\n",
       "    }\n",
       "\n",
       "    .dataframe tbody tr th {\n",
       "        vertical-align: top;\n",
       "    }\n",
       "\n",
       "    .dataframe thead th {\n",
       "        text-align: right;\n",
       "    }\n",
       "</style>\n",
       "<table border=\"1\" class=\"dataframe\">\n",
       "  <thead>\n",
       "    <tr style=\"text-align: right;\">\n",
       "      <th></th>\n",
       "      <th>_id</th>\n",
       "      <th>inter_api_access_duration(sec)</th>\n",
       "      <th>api_access_uniqueness</th>\n",
       "      <th>sequence_length(count)</th>\n",
       "      <th>vsession_duration(min)</th>\n",
       "      <th>ip_type</th>\n",
       "      <th>behavior</th>\n",
       "      <th>behavior_type</th>\n",
       "      <th>num_sessions</th>\n",
       "      <th>num_users</th>\n",
       "      <th>num_unique_apis</th>\n",
       "      <th>source</th>\n",
       "    </tr>\n",
       "  </thead>\n",
       "  <tbody>\n",
       "    <tr>\n",
       "      <td>0</td>\n",
       "      <td>024aae60-1a81-3f37-bbe6-3f832c919706</td>\n",
       "      <td>7.010387</td>\n",
       "      <td>0.419355</td>\n",
       "      <td>31.0</td>\n",
       "      <td>13040</td>\n",
       "      <td>default</td>\n",
       "      <td>outlier</td>\n",
       "      <td>outlier</td>\n",
       "      <td>1.0</td>\n",
       "      <td>1.0</td>\n",
       "      <td>13.0</td>\n",
       "      <td>E</td>\n",
       "    </tr>\n",
       "    <tr>\n",
       "      <td>1</td>\n",
       "      <td>028d67dd-c6d0-329f-a20e-78db9eab7a55</td>\n",
       "      <td>51.419393</td>\n",
       "      <td>0.252336</td>\n",
       "      <td>107.0</td>\n",
       "      <td>330113</td>\n",
       "      <td>default</td>\n",
       "      <td>outlier</td>\n",
       "      <td>outlier</td>\n",
       "      <td>1.0</td>\n",
       "      <td>1.0</td>\n",
       "      <td>27.0</td>\n",
       "      <td>E</td>\n",
       "    </tr>\n",
       "    <tr>\n",
       "      <td>2</td>\n",
       "      <td>02d12bf9-5fe2-3d0c-b233-30e02224b686</td>\n",
       "      <td>25.860775</td>\n",
       "      <td>0.275000</td>\n",
       "      <td>40.0</td>\n",
       "      <td>62066</td>\n",
       "      <td>default</td>\n",
       "      <td>outlier</td>\n",
       "      <td>outlier</td>\n",
       "      <td>1.0</td>\n",
       "      <td>1.0</td>\n",
       "      <td>11.0</td>\n",
       "      <td>E</td>\n",
       "    </tr>\n",
       "    <tr>\n",
       "      <td>3</td>\n",
       "      <td>0b3aee1e-dc3b-3728-bc55-f57a23446b3d</td>\n",
       "      <td>0.205909</td>\n",
       "      <td>0.818182</td>\n",
       "      <td>11.0</td>\n",
       "      <td>136</td>\n",
       "      <td>default</td>\n",
       "      <td>outlier</td>\n",
       "      <td>outlier</td>\n",
       "      <td>1.0</td>\n",
       "      <td>1.0</td>\n",
       "      <td>9.0</td>\n",
       "      <td>E</td>\n",
       "    </tr>\n",
       "    <tr>\n",
       "      <td>4</td>\n",
       "      <td>0dbfffb4-3ed4-3cb2-904d-c348501a996e</td>\n",
       "      <td>0.122125</td>\n",
       "      <td>0.812500</td>\n",
       "      <td>16.0</td>\n",
       "      <td>118</td>\n",
       "      <td>default</td>\n",
       "      <td>outlier</td>\n",
       "      <td>outlier</td>\n",
       "      <td>1.0</td>\n",
       "      <td>1.0</td>\n",
       "      <td>13.0</td>\n",
       "      <td>E</td>\n",
       "    </tr>\n",
       "  </tbody>\n",
       "</table>\n",
       "</div>"
      ],
      "text/plain": [
       "                                    _id  inter_api_access_duration(sec)  \\\n",
       "0  024aae60-1a81-3f37-bbe6-3f832c919706                        7.010387   \n",
       "1  028d67dd-c6d0-329f-a20e-78db9eab7a55                       51.419393   \n",
       "2  02d12bf9-5fe2-3d0c-b233-30e02224b686                       25.860775   \n",
       "3  0b3aee1e-dc3b-3728-bc55-f57a23446b3d                        0.205909   \n",
       "4  0dbfffb4-3ed4-3cb2-904d-c348501a996e                        0.122125   \n",
       "\n",
       "   api_access_uniqueness  sequence_length(count)  vsession_duration(min)  \\\n",
       "0               0.419355                    31.0                   13040   \n",
       "1               0.252336                   107.0                  330113   \n",
       "2               0.275000                    40.0                   62066   \n",
       "3               0.818182                    11.0                     136   \n",
       "4               0.812500                    16.0                     118   \n",
       "\n",
       "   ip_type behavior behavior_type  num_sessions  num_users  num_unique_apis  \\\n",
       "0  default  outlier       outlier           1.0        1.0             13.0   \n",
       "1  default  outlier       outlier           1.0        1.0             27.0   \n",
       "2  default  outlier       outlier           1.0        1.0             11.0   \n",
       "3  default  outlier       outlier           1.0        1.0              9.0   \n",
       "4  default  outlier       outlier           1.0        1.0             13.0   \n",
       "\n",
       "  source  \n",
       "0      E  \n",
       "1      E  \n",
       "2      E  \n",
       "3      E  \n",
       "4      E  "
      ]
     },
     "execution_count": 2,
     "metadata": {},
     "output_type": "execute_result"
    }
   ],
   "source": [
    "api_ext = pd.read_csv('remaining_behavior_ext.csv', delimiter=',', index_col=False).drop('Unnamed: 0', axis=1)\n",
    "api_ext.dataframeName = 'remaining_behavior_ext.csv'\n",
    "nRow, nCol = api_ext.shape\n",
    "print(f'There are {nRow} rows and {nCol} columns')\n",
    "api_ext.head()"
   ]
  },
  {
   "cell_type": "markdown",
   "metadata": {},
   "source": [
    "Each data has been categorized into 4 different types according to 'behavior_type' column: normal, outlier, bot and attack. Since this is a anomaly detection, we drop all data whose behavior type is bot or attack. I only retain normal and outlier data. _id is an object value. However, it's an unique id created by the company, and is not related to the classification result. So we decided to drop this feature.\n",
    "\n",
    "We also need to fill NA with int 0."
   ]
  },
  {
   "cell_type": "code",
   "execution_count": 3,
   "metadata": {
    "ExecuteTime": {
     "end_time": "2022-04-29T23:49:23.606737Z",
     "start_time": "2022-04-29T23:49:23.571637Z"
    }
   },
   "outputs": [],
   "source": [
    "# drop attack and bot type\n",
    "# filling Null with '0'\n",
    "\n",
    "api_ext.rename(columns = {'_id': 'id','inter_api_access_duration(sec)':'inter_api_access_duration', 'sequence_length(count)':'sequence_length','vsession_duration(min)':'vsession_duration', 'behavior':'classification'}, inplace=True)\n",
    "api_ext=api_ext.drop(api_ext[api_ext.behavior_type == 'attack'].index)\n",
    "api_ext=api_ext.drop(api_ext[api_ext.behavior_type == 'bot'].index)\n",
    "api_ext=api_ext.drop(columns=['id'])\n",
    "api_ext.inter_api_access_duration = api_ext.inter_api_access_duration.fillna('0')\n",
    "api_ext.api_access_uniqueness = api_ext.api_access_uniqueness.fillna('0')\n"
   ]
  },
  {
   "cell_type": "markdown",
   "metadata": {},
   "source": [
    "Data Attributes\n",
    "\n",
    "id: user id that requested the API call\n",
    "\n",
    "inter_api_access_duration(sec): the duration time of the API access in sec\n",
    "\n",
    "api_access_uniqueness: the uniquenesss of a request value\n",
    "\n",
    "sequence_length(count): sequence length of the API request\n",
    "\n",
    "vsession_duration(min): the duration time of the vsession in min\n",
    "\n",
    "ip_type: the ip type\n",
    "\n",
    "behavior: the specific behavior of the API\n",
    "\n",
    "behavior_type: classification results of the API\n",
    "\n",
    "num_sessions: the number of sessions\n",
    "\n",
    "num_users: the number of associated users\n",
    "\n",
    "num_unique_apis: the number of unique APIs\n",
    "\n",
    "source: the source\n",
    "\n",
    "api_access_uniqueness, num_sessions, num_users and num_unique_apis are strongly correlated. Other features has relatively low correlation between each other."
   ]
  },
  {
   "cell_type": "markdown",
   "metadata": {},
   "source": [
    "ip_type ,source are the categorized object value, implement Label encoding.\n",
    "Mark outlier as 0, normal as 1.\n",
    "At last, standardalize the dataset using the StandardScaler"
   ]
  },
  {
   "cell_type": "code",
   "execution_count": 7,
   "metadata": {
    "ExecuteTime": {
     "end_time": "2022-04-29T23:51:29.676331Z",
     "start_time": "2022-04-29T23:51:29.634236Z"
    }
   },
   "outputs": [
    {
     "data": {
      "text/html": [
       "<div>\n",
       "<style scoped>\n",
       "    .dataframe tbody tr th:only-of-type {\n",
       "        vertical-align: middle;\n",
       "    }\n",
       "\n",
       "    .dataframe tbody tr th {\n",
       "        vertical-align: top;\n",
       "    }\n",
       "\n",
       "    .dataframe thead th {\n",
       "        text-align: right;\n",
       "    }\n",
       "</style>\n",
       "<table border=\"1\" class=\"dataframe\">\n",
       "  <thead>\n",
       "    <tr style=\"text-align: right;\">\n",
       "      <th></th>\n",
       "      <th>inter_api_access_duration</th>\n",
       "      <th>api_access_uniqueness</th>\n",
       "      <th>sequence_length</th>\n",
       "      <th>vsession_duration</th>\n",
       "      <th>ip_type</th>\n",
       "      <th>classification</th>\n",
       "      <th>behavior_type</th>\n",
       "      <th>num_sessions</th>\n",
       "      <th>num_users</th>\n",
       "      <th>num_unique_apis</th>\n",
       "      <th>source</th>\n",
       "    </tr>\n",
       "  </thead>\n",
       "  <tbody>\n",
       "    <tr>\n",
       "      <td>0</td>\n",
       "      <td>7.01039</td>\n",
       "      <td>0.419355</td>\n",
       "      <td>-0.232908</td>\n",
       "      <td>-0.206502</td>\n",
       "      <td>1</td>\n",
       "      <td>1</td>\n",
       "      <td>1</td>\n",
       "      <td>1.0</td>\n",
       "      <td>1.0</td>\n",
       "      <td>13.0</td>\n",
       "      <td>0</td>\n",
       "    </tr>\n",
       "    <tr>\n",
       "      <td>1</td>\n",
       "      <td>51.4194</td>\n",
       "      <td>0.252336</td>\n",
       "      <td>0.263562</td>\n",
       "      <td>3.848611</td>\n",
       "      <td>1</td>\n",
       "      <td>1</td>\n",
       "      <td>1</td>\n",
       "      <td>1.0</td>\n",
       "      <td>1.0</td>\n",
       "      <td>27.0</td>\n",
       "      <td>0</td>\n",
       "    </tr>\n",
       "    <tr>\n",
       "      <td>2</td>\n",
       "      <td>25.8608</td>\n",
       "      <td>0.275</td>\n",
       "      <td>-0.174116</td>\n",
       "      <td>0.420502</td>\n",
       "      <td>1</td>\n",
       "      <td>1</td>\n",
       "      <td>1</td>\n",
       "      <td>1.0</td>\n",
       "      <td>1.0</td>\n",
       "      <td>11.0</td>\n",
       "      <td>0</td>\n",
       "    </tr>\n",
       "    <tr>\n",
       "      <td>3</td>\n",
       "      <td>0.205909</td>\n",
       "      <td>0.818182</td>\n",
       "      <td>-0.363558</td>\n",
       "      <td>-0.371534</td>\n",
       "      <td>1</td>\n",
       "      <td>1</td>\n",
       "      <td>1</td>\n",
       "      <td>1.0</td>\n",
       "      <td>1.0</td>\n",
       "      <td>9.0</td>\n",
       "      <td>0</td>\n",
       "    </tr>\n",
       "    <tr>\n",
       "      <td>4</td>\n",
       "      <td>0.122125</td>\n",
       "      <td>0.8125</td>\n",
       "      <td>-0.330896</td>\n",
       "      <td>-0.371764</td>\n",
       "      <td>1</td>\n",
       "      <td>1</td>\n",
       "      <td>1</td>\n",
       "      <td>1.0</td>\n",
       "      <td>1.0</td>\n",
       "      <td>13.0</td>\n",
       "      <td>0</td>\n",
       "    </tr>\n",
       "  </tbody>\n",
       "</table>\n",
       "</div>"
      ],
      "text/plain": [
       "  inter_api_access_duration api_access_uniqueness  sequence_length  \\\n",
       "0                   7.01039              0.419355        -0.232908   \n",
       "1                   51.4194              0.252336         0.263562   \n",
       "2                   25.8608                 0.275        -0.174116   \n",
       "3                  0.205909              0.818182        -0.363558   \n",
       "4                  0.122125                0.8125        -0.330896   \n",
       "\n",
       "   vsession_duration  ip_type  classification  behavior_type  num_sessions  \\\n",
       "0          -0.206502        1               1              1           1.0   \n",
       "1           3.848611        1               1              1           1.0   \n",
       "2           0.420502        1               1              1           1.0   \n",
       "3          -0.371534        1               1              1           1.0   \n",
       "4          -0.371764        1               1              1           1.0   \n",
       "\n",
       "   num_users  num_unique_apis  source  \n",
       "0        1.0             13.0       0  \n",
       "1        1.0             27.0       0  \n",
       "2        1.0             11.0       0  \n",
       "3        1.0              9.0       0  \n",
       "4        1.0             13.0       0  "
      ]
     },
     "execution_count": 7,
     "metadata": {},
     "output_type": "execute_result"
    }
   ],
   "source": [
    "# LabelEncoder and Stannderdize\n",
    "from sklearn.preprocessing import LabelEncoder, MinMaxScaler,StandardScaler\n",
    "le = LabelEncoder()\n",
    "api_ext['ip_type']=le.fit_transform(api_ext['ip_type'])\n",
    "api_ext['source']=le.fit_transform(api_ext['source'])\n",
    "api_ext['classification']=le.fit_transform(api_ext['classification'])\n",
    "api_ext[['sequence_length','vsession_duration']] = StandardScaler().fit_transform(api_ext[['sequence_length','vsession_duration']])\n",
    "api_ext = api_ext.replace({'behavior_type': {'outlier': 1, 'normal': 0}})\n",
    "api_ext.head()"
   ]
  },
  {
   "cell_type": "markdown",
   "metadata": {},
   "source": [
    "Train data is only from normal dataset, and take 80% of normal data.\n",
    "\n",
    "Split the remain dataset into 50% validation data and 50% test data.\n",
    "\n",
    "set overall train data, valid_data, and test_data. Valid and test data set are combined with normal and outliers data.\n",
    "\n",
    "I will train on train data, fit model and find threshold on valid data, and test our performance on test data."
   ]
  },
  {
   "cell_type": "code",
   "execution_count": 42,
   "metadata": {
    "ExecuteTime": {
     "end_time": "2022-04-30T01:09:02.990225Z",
     "start_time": "2022-04-30T01:09:02.954462Z"
    },
    "scrolled": true
   },
   "outputs": [
    {
     "name": "stdout",
     "output_type": "stream",
     "text": [
      "normal data:\n",
      "(8946, 11)\n",
      "anomaly data:\n",
      "(24146, 11)\n",
      "train_data:\n",
      "(7156, 11)\n",
      "validation_data:\n",
      "(12968, 11)\n",
      "test data:\n",
      "(12968, 11)\n"
     ]
    }
   ],
   "source": [
    "# split the data accoring to outlier and inlier\n",
    "# continue split both of them into train(80%) and test(20%)\n",
    "\n",
    "from sklearn.model_selection import train_test_split\n",
    "\n",
    "\n",
    "# You will train the autoencoder using only the normal rhythms, \n",
    "# which are labeled in this dataset as 0. Separate the normal rhythms from the abnormal rhythms.\n",
    "normal = api_ext[api_ext['classification'] == 0]\n",
    "anomaly = api_ext[api_ext['classification'] == 1]\n",
    "print('normal data:')\n",
    "print(normal.shape)\n",
    "print('anomaly data:')\n",
    "print(anomaly.shape)\n",
    "\n",
    "\n",
    "# train data is only from normal dataset, and take 80% of normal data\n",
    "train_data, normal_test, _, _ = train_test_split(normal, normal, test_size=.2, random_state=6)\n",
    "\n",
    "# split the original dataset into 50% validation data and 50% test data.\n",
    "normal_valid, normal_test, _, _ = train_test_split(normal_test, normal_test, test_size=.5, random_state=6)\n",
    "anormal_valid, anormal_test, _, _ = train_test_split(anomaly, anomaly, test_size=.5, random_state=6)\n",
    "\n",
    "# set overall train data, valid_data, and test_data. Valid and test data set are combined normal and outliers\n",
    "# of course, take the label combined as the same way as data.\n",
    "valid_data = normal_valid.append(anormal_valid).reset_index(drop=True)\n",
    "test_data = normal_test.append(anormal_test).reset_index(drop=True)\n",
    "\n",
    "\n",
    "print('train_data:')\n",
    "print(train_data.shape)\n",
    "print('validation_data:')\n",
    "print(valid_data.shape)\n",
    "print('test data:')\n",
    "print(test_data.shape)\n"
   ]
  },
  {
   "cell_type": "markdown",
   "metadata": {},
   "source": [
    "An example of normal and outlier data plot(vsession_duration)"
   ]
  },
  {
   "cell_type": "code",
   "execution_count": 43,
   "metadata": {
    "ExecuteTime": {
     "end_time": "2022-04-30T01:09:08.923840Z",
     "start_time": "2022-04-30T01:09:08.809197Z"
    }
   },
   "outputs": [
    {
     "data": {
      "image/png": "[encoded data removed]",
      "text/plain": [
       "<Figure size 432x288 with 1 Axes>"
      ]
     },
     "metadata": {
      "needs_background": "light"
     },
     "output_type": "display_data"
    }
   ],
   "source": [
    "plt.grid()\n",
    "plt.plot(np.arange(8946), normal['vsession_duration'])\n",
    "plt.title(\"A Normal ECG\")\n",
    "plt.show()"
   ]
  },
  {
   "cell_type": "code",
   "execution_count": 44,
   "metadata": {
    "ExecuteTime": {
     "end_time": "2022-04-30T01:09:10.039026Z",
     "start_time": "2022-04-30T01:09:09.914329Z"
    }
   },
   "outputs": [
    {
     "data": {
      "image/png": "[encoded data removed]",
      "text/plain": [
       "<Figure size 432x288 with 1 Axes>"
      ]
     },
     "metadata": {
      "needs_background": "light"
     },
     "output_type": "display_data"
    }
   ],
   "source": [
    "plt.grid()\n",
    "plt.plot(np.arange(24146), anomaly['vsession_duration'])\n",
    "plt.title(\"An Anomalous ECG\")\n",
    "plt.show()"
   ]
  },
  {
   "cell_type": "markdown",
   "metadata": {},
   "source": [
    "The following is my AutoEncoder model construction.\n",
    "\n",
    "Dimensionality reduction based anomaly detection method is one of the popular detection methods. It is based on the assumption that the features of normal data are correlated with each other.\n",
    "\n",
    "Once the model is learned, any input data that cannot be reconstructed back are taken as anomalies.\n",
    "\n",
    "The most important part of the neural network, and ironically the smallest one, is the bottleneck. The bottleneck exists to restrict the flow of information to the decoder from the encoder, thus, allowing only the most vital information to pass through.\n",
    "Since the bottleneck is designed in such a way that the maximum information possessed by an image is captured in it, we can say that the bottleneck helps us form a knowledge-representation of the input.\n",
    "Thus, the encoder-decoder structure helps us extract the most from data and establish useful correlations between various inputs within the network.\n",
    "\n",
    "AE with linear activation behaves similar to PCA, while the regular AE is able to capture nonlinearity.\n",
    "~PCA \n",
    "pros: Unique solution through singular value decomposition\n",
    "cons: Linear transformation of raw features only\n",
    "AE \n",
    "pros: Easy to capture complex pattern through nonlinearity and stackup\n",
    "cons: Without additional constraints, autoencoders may learn an identity mapping of the input\n",
    "\n",
    "The code size or the size of the bottleneck(hidden layer) is the most important hyperparameter used to tune the autoencoder. The bottleneck size decides how much the data has to be compressed. This can also act as a regularisation term.\n",
    "\n",
    "I use relu as my encoder activation function, and sigmoid as my decoder activation function."
   ]
  },
  {
   "cell_type": "code",
   "execution_count": 45,
   "metadata": {
    "ExecuteTime": {
     "end_time": "2022-04-30T01:09:11.092943Z",
     "start_time": "2022-04-30T01:09:11.083876Z"
    },
    "code_folding": [],
    "scrolled": true
   },
   "outputs": [],
   "source": [
    "import numpy as np\n",
    "import pandas as pd\n",
    "import tensorflow as tf\n",
    "import matplotlib.pyplot as plt\n",
    "from sklearn.metrics import accuracy_score\n",
    "from tensorflow.keras.optimizers import Adam\n",
    "from sklearn.preprocessing import MinMaxScaler\n",
    "from tensorflow.keras import Model, Sequential\n",
    "from tensorflow.keras.layers import Dense, Dropout\n",
    "from sklearn.model_selection import train_test_split\n",
    "from tensorflow.keras.losses import MeanSquaredLogarithmicError\n",
    "\n",
    "\n",
    "# create a model by subclassing Model class in tensorflow\n",
    "class AutoEncoder(Model):\n",
    "    \"\"\"\n",
    "    Parameters\n",
    "    ----------\n",
    "    output_units: int\n",
    "    Number of output units\n",
    "  \n",
    "    code_size: int\n",
    "    Number of units in bottle neck\n",
    "    \"\"\"\n",
    "\n",
    "    def __init__(self, output_units, code_size=8):\n",
    "        super().__init__()\n",
    "        self.encoder = Sequential([\n",
    "            Dense(64, activation='relu'),\n",
    "            Dropout(0.1),\n",
    "            Dense(32, activation='relu'),\n",
    "            Dropout(0.1),\n",
    "            Dense(16, activation='relu'),\n",
    "            Dropout(0.1),\n",
    "            Dense(code_size, activation='relu')\n",
    "        ])\n",
    "        self.decoder = Sequential([\n",
    "            Dense(16, activation='relu'),\n",
    "            Dropout(0.1),\n",
    "            Dense(32, activation='relu'),\n",
    "            Dropout(0.1),\n",
    "            Dense(64, activation='relu'),\n",
    "            Dropout(0.1),\n",
    "            Dense(output_units, activation='sigmoid')\n",
    "        ])\n",
    "  \n",
    "    def call(self, inputs):\n",
    "        encoded = self.encoder(inputs)\n",
    "        decoded = self.decoder(encoded)\n",
    "        return decoded\n",
    "    "
   ]
  },
  {
   "cell_type": "markdown",
   "metadata": {},
   "source": [
    "Notice that the autoencoder is trained using only the normal data, but is evaluated using the full validation set.\n",
    "Use Mean squared logarithmic error (MSLE) as loss function.\n",
    "Adam optimizer as learning rate.\n",
    "Normalize using Min-Max scaler to set data in between 0-1.\n"
   ]
  },
  {
   "cell_type": "code",
   "execution_count": 47,
   "metadata": {
    "ExecuteTime": {
     "end_time": "2022-04-30T01:11:19.542278Z",
     "start_time": "2022-04-30T01:11:17.314487Z"
    },
    "scrolled": true
   },
   "outputs": [
    {
     "name": "stdout",
     "output_type": "stream",
     "text": [
      "Epoch 1/20\n",
      "WARNING:tensorflow:AutoGraph could not transform <function Model.make_train_function.<locals>.train_function at 0x7faf9eb4d4d0> and will run it as-is.\n",
      "Please report this to the TensorFlow team. When filing the bug, set the verbosity to 10 (on Linux, `export AUTOGRAPH_VERBOSITY=10`) and attach the full output.\n",
      "Cause: 'arguments' object has no attribute 'posonlyargs'\n",
      "To silence this warning, decorate the function with @tf.autograph.experimental.do_not_convert\n",
      "WARNING: AutoGraph could not transform <function Model.make_train_function.<locals>.train_function at 0x7faf9eb4d4d0> and will run it as-is.\n",
      "Please report this to the TensorFlow team. When filing the bug, set the verbosity to 10 (on Linux, `export AUTOGRAPH_VERBOSITY=10`) and attach the full output.\n",
      "Cause: 'arguments' object has no attribute 'posonlyargs'\n",
      "To silence this warning, decorate the function with @tf.autograph.experimental.do_not_convert\n",
      "WARNING:tensorflow:AutoGraph could not transform <bound method AutoEncoder.call of <__main__.AutoEncoder object at 0x7faf9d22bd10>> and will run it as-is.\n",
      "Please report this to the TensorFlow team. When filing the bug, set the verbosity to 10 (on Linux, `export AUTOGRAPH_VERBOSITY=10`) and attach the full output.\n",
      "Cause: 'arguments' object has no attribute 'posonlyargs'\n",
      "To silence this warning, decorate the function with @tf.autograph.experimental.do_not_convert\n",
      "WARNING: AutoGraph could not transform <bound method AutoEncoder.call of <__main__.AutoEncoder object at 0x7faf9d22bd10>> and will run it as-is.\n",
      "Please report this to the TensorFlow team. When filing the bug, set the verbosity to 10 (on Linux, `export AUTOGRAPH_VERBOSITY=10`) and attach the full output.\n",
      "Cause: 'arguments' object has no attribute 'posonlyargs'\n",
      "To silence this warning, decorate the function with @tf.autograph.experimental.do_not_convert\n",
      " 1/14 [=>............................] - ETA: 7s - loss: 0.1296 - mse: 0.2124WARNING:tensorflow:AutoGraph could not transform <function Model.make_test_function.<locals>.test_function at 0x7faf9eba5320> and will run it as-is.\n",
      "Please report this to the TensorFlow team. When filing the bug, set the verbosity to 10 (on Linux, `export AUTOGRAPH_VERBOSITY=10`) and attach the full output.\n",
      "Cause: 'arguments' object has no attribute 'posonlyargs'\n",
      "To silence this warning, decorate the function with @tf.autograph.experimental.do_not_convert\n",
      "WARNING: AutoGraph could not transform <function Model.make_test_function.<locals>.test_function at 0x7faf9eba5320> and will run it as-is.\n",
      "Please report this to the TensorFlow team. When filing the bug, set the verbosity to 10 (on Linux, `export AUTOGRAPH_VERBOSITY=10`) and attach the full output.\n",
      "Cause: 'arguments' object has no attribute 'posonlyargs'\n",
      "To silence this warning, decorate the function with @tf.autograph.experimental.do_not_convert\n",
      "14/14 [==============================] - 1s 14ms/step - loss: 0.1225 - mse: 0.1981 - val_loss: 0.1223 - val_mse: 0.2198\n",
      "Epoch 2/20\n",
      "14/14 [==============================] - 0s 5ms/step - loss: 0.0887 - mse: 0.1346 - val_loss: 0.0945 - val_mse: 0.1841\n",
      "Epoch 3/20\n",
      "14/14 [==============================] - 0s 5ms/step - loss: 0.0287 - mse: 0.0402 - val_loss: 0.0823 - val_mse: 0.1883\n",
      "Epoch 4/20\n",
      "14/14 [==============================] - 0s 5ms/step - loss: 0.0083 - mse: 0.0128 - val_loss: 0.0939 - val_mse: 0.2094\n",
      "Epoch 5/20\n",
      "14/14 [==============================] - 0s 5ms/step - loss: 0.0078 - mse: 0.0123 - val_loss: 0.0904 - val_mse: 0.2025\n",
      "Epoch 6/20\n",
      "14/14 [==============================] - 0s 5ms/step - loss: 0.0076 - mse: 0.0119 - val_loss: 0.0918 - val_mse: 0.2053\n",
      "Epoch 7/20\n",
      "14/14 [==============================] - 0s 5ms/step - loss: 0.0074 - mse: 0.0117 - val_loss: 0.0906 - val_mse: 0.2031\n",
      "Epoch 8/20\n",
      "14/14 [==============================] - 0s 5ms/step - loss: 0.0072 - mse: 0.0114 - val_loss: 0.0903 - val_mse: 0.2025\n",
      "Epoch 9/20\n",
      "14/14 [==============================] - 0s 5ms/step - loss: 0.0071 - mse: 0.0112 - val_loss: 0.0902 - val_mse: 0.2022\n",
      "Epoch 10/20\n",
      "14/14 [==============================] - 0s 5ms/step - loss: 0.0070 - mse: 0.0110 - val_loss: 0.0898 - val_mse: 0.2014\n",
      "Epoch 11/20\n",
      "14/14 [==============================] - 0s 5ms/step - loss: 0.0069 - mse: 0.0108 - val_loss: 0.0894 - val_mse: 0.2004\n",
      "Epoch 12/20\n",
      "14/14 [==============================] - 0s 5ms/step - loss: 0.0068 - mse: 0.0107 - val_loss: 0.0894 - val_mse: 0.2001\n",
      "Epoch 13/20\n",
      "14/14 [==============================] - 0s 5ms/step - loss: 0.0067 - mse: 0.0106 - val_loss: 0.0892 - val_mse: 0.1993\n",
      "Epoch 14/20\n",
      "14/14 [==============================] - 0s 5ms/step - loss: 0.0066 - mse: 0.0103 - val_loss: 0.0889 - val_mse: 0.1981\n",
      "Epoch 15/20\n",
      "14/14 [==============================] - 0s 5ms/step - loss: 0.0063 - mse: 0.0100 - val_loss: 0.0885 - val_mse: 0.1966\n",
      "Epoch 16/20\n",
      "14/14 [==============================] - 0s 5ms/step - loss: 0.0062 - mse: 0.0097 - val_loss: 0.0879 - val_mse: 0.1938\n",
      "Epoch 17/20\n",
      "14/14 [==============================] - 0s 5ms/step - loss: 0.0059 - mse: 0.0093 - val_loss: 0.0867 - val_mse: 0.1886\n",
      "Epoch 18/20\n",
      "14/14 [==============================] - 0s 5ms/step - loss: 0.0056 - mse: 0.0088 - val_loss: 0.0861 - val_mse: 0.1857\n",
      "Epoch 19/20\n",
      "14/14 [==============================] - 0s 5ms/step - loss: 0.0054 - mse: 0.0085 - val_loss: 0.0869 - val_mse: 0.1874\n",
      "Epoch 20/20\n",
      "14/14 [==============================] - 0s 5ms/step - loss: 0.0052 - mse: 0.0083 - val_loss: 0.0876 - val_mse: 0.1886\n",
      "Model: \"sequential_10\"\n",
      "_________________________________________________________________\n",
      " Layer (type)                Output Shape              Param #   \n",
      "=================================================================\n",
      " dense_40 (Dense)            (None, 64)                704       \n",
      "                                                                 \n",
      " dropout_30 (Dropout)        (None, 64)                0         \n",
      "                                                                 \n",
      " dense_41 (Dense)            (None, 32)                2080      \n",
      "                                                                 \n",
      " dropout_31 (Dropout)        (None, 32)                0         \n",
      "                                                                 \n",
      " dense_42 (Dense)            (None, 16)                528       \n",
      "                                                                 \n",
      " dropout_32 (Dropout)        (None, 16)                0         \n",
      "                                                                 \n",
      " dense_43 (Dense)            (None, 8)                 136       \n",
      "                                                                 \n",
      "=================================================================\n",
      "Total params: 3,448\n",
      "Trainable params: 3,448\n",
      "Non-trainable params: 0\n",
      "_________________________________________________________________\n",
      "Model: \"sequential_11\"\n",
      "_________________________________________________________________\n",
      " Layer (type)                Output Shape              Param #   \n",
      "=================================================================\n",
      " dense_44 (Dense)            (None, 16)                144       \n",
      "                                                                 \n",
      " dropout_33 (Dropout)        (None, 16)                0         \n",
      "                                                                 \n",
      " dense_45 (Dense)            (None, 32)                544       \n",
      "                                                                 \n",
      " dropout_34 (Dropout)        (None, 32)                0         \n",
      "                                                                 \n",
      " dense_46 (Dense)            (None, 64)                2112      \n",
      "                                                                 \n",
      " dropout_35 (Dropout)        (None, 64)                0         \n",
      "                                                                 \n",
      " dense_47 (Dense)            (None, 10)                650       \n",
      "                                                                 \n",
      "=================================================================\n",
      "Total params: 3,450\n",
      "Trainable params: 3,450\n",
      "Non-trainable params: 0\n",
      "_________________________________________________________________\n"
     ]
    }
   ],
   "source": [
    "# Notice that the autoencoder is trained using only the normal ECGs, \n",
    "# but is evaluated using the full val set.\n",
    "\n",
    "min_max_scaler = MinMaxScaler(feature_range=(0, 1))\n",
    "X_train = train_data.copy()\n",
    "X_train = X_train.drop(['classification'], axis=1)\n",
    "x_train_scaled = min_max_scaler.fit_transform(X_train)\n",
    "\n",
    "X_valid = valid_data.copy()\n",
    "X_valid = X_valid.drop(['classification'], axis=1)\n",
    "x_val_scaled = min_max_scaler.transform(X_valid)\n",
    "\n",
    "\n",
    "model = AutoEncoder(output_units=x_train_scaled.shape[1])\n",
    "# configurations of model\n",
    "model.compile(loss='msle', metrics=['mse'], optimizer='adam')\n",
    "\n",
    "history = model.fit(\n",
    "    x_train_scaled,\n",
    "    x_train_scaled,\n",
    "    epochs=20,\n",
    "    batch_size=512,\n",
    "    validation_data=(x_val_scaled, x_val_scaled)\n",
    ")\n",
    "model.save_weights('models/savedmodels/autoencoder/')\n",
    "model.encoder.summary()\n",
    "model.decoder.summary()\n"
   ]
  },
  {
   "cell_type": "markdown",
   "metadata": {},
   "source": [
    "We can plot the MSLE train loss curve and MSLE validation loss curve to observe the performance."
   ]
  },
  {
   "cell_type": "code",
   "execution_count": 48,
   "metadata": {
    "ExecuteTime": {
     "end_time": "2022-04-30T01:11:22.758861Z",
     "start_time": "2022-04-30T01:11:22.634705Z"
    }
   },
   "outputs": [
    {
     "data": {
      "image/png": "[encoded data removed]",
      "text/plain": [
       "<Figure size 432x288 with 1 Axes>"
      ]
     },
     "metadata": {
      "needs_background": "light"
     },
     "output_type": "display_data"
    }
   ],
   "source": [
    "from matplotlib import pyplot as plt\n",
    "\n",
    "plt.plot(history.history['loss'])\n",
    "plt.plot(history.history['val_loss'])\n",
    "plt.xlabel('Epochs')\n",
    "plt.ylabel('MSE Loss')\n",
    "plt.legend(['loss', 'val_loss'])\n",
    "plt.show()\n"
   ]
  },
  {
   "cell_type": "markdown",
   "metadata": {},
   "source": [
    "Note that we use train set to get our reconstruction_values, and we test the performance scores on our test data that have not been used.\n",
    "\n",
    "We need to find best threshold, and we first try two naive ways. \n",
    "\n",
    "The first way is to choose a threshold value that is one standard deviations above the mean:\n",
    "\n",
    "np.mean(train_loss.numpy()) + np.std(train_loss.numpy())\n",
    "\n",
    "And the second way is to choose a threshold value that is 95% of the reconstruction error value based on MSLE loss:\n",
    "\n",
    "np.percentile(reconstruction_errors, 95)"
   ]
  },
  {
   "cell_type": "code",
   "execution_count": 85,
   "metadata": {
    "ExecuteTime": {
     "end_time": "2022-04-30T01:55:29.345992Z",
     "start_time": "2022-04-30T01:55:29.339760Z"
    },
    "code_folding": []
   },
   "outputs": [],
   "source": [
    "# Detect anomalies by calculating whether the reconstruction loss is greater than a fixed threshold.\n",
    "def find_threshold(model, x_train_scaled):\n",
    "    reconstructions = model.predict(x_train_scaled)\n",
    "    # provides losses of individual instances\n",
    "    train_loss = tf.keras.losses.msle(reconstructions, x_train_scaled)\n",
    "    plt.hist(train_loss[None,:], bins=50)\n",
    "    plt.xlabel(\"Train loss\")\n",
    "    plt.ylabel(\"No of examples\")\n",
    "    plt.show()\n",
    "    # threshold for anomaly scores\n",
    "    threshold = np.mean(train_loss.numpy()) + np.std(train_loss.numpy())\n",
    "    print(\"threshold seleted to: \" + str(threshold))\n",
    "    return threshold\n",
    "\n",
    "def find_threshold_method_two(model, x_train_scaled):\n",
    "    # another method to find threshold\n",
    "    reconstructions = model.predict(x_train_scaled)\n",
    "    # provides losses of individual instances\n",
    "    reconstruction_errors = tf.keras.losses.msle(reconstructions, x_train_scaled)\n",
    "\n",
    "    threshold_2 = np.percentile(reconstruction_errors, 95)\n",
    "    print(\"threshold2 seleted to: \" + str(threshold_2))\n",
    "    return threshold_2\n"
   ]
  },
  {
   "cell_type": "markdown",
   "metadata": {},
   "source": [
    "This is my anomaly(loss) score helper function to help determine threshold."
   ]
  },
  {
   "cell_type": "code",
   "execution_count": 86,
   "metadata": {
    "ExecuteTime": {
     "end_time": "2022-04-30T01:55:40.123570Z",
     "start_time": "2022-04-30T01:55:40.120220Z"
    }
   },
   "outputs": [],
   "source": [
    "def compute_anomaly_score(model, df):\n",
    "    preds = model.predict(df)\n",
    "    mse = np.mean(np.power(df - preds, 2), axis=1)\n",
    "    return mse\n"
   ]
  },
  {
   "cell_type": "markdown",
   "metadata": {},
   "source": [
    "Print the performance result function, which input is a specific threshold, test dataset and corresponding labels."
   ]
  },
  {
   "cell_type": "code",
   "execution_count": 80,
   "metadata": {
    "ExecuteTime": {
     "end_time": "2022-04-30T01:50:50.494498Z",
     "start_time": "2022-04-30T01:50:50.489747Z"
    }
   },
   "outputs": [],
   "source": [
    "def test_result(threshold, test_data, labels):\n",
    "    loss = compute_anomaly_score(model, test_data)\n",
    "    pred =  tf.math.less(loss, threshold)\n",
    "    f1_totol = f1_score(labels, pred)\n",
    "    print(\"Accuracy = {}\".format(accuracy_score(labels, pred)))\n",
    "    print(\"Precision = {}\".format(precision_score(labels, pred)))\n",
    "    print(\"Recall = {}\".format(recall_score(labels, pred)))\n",
    "    print(\"F1 = {}\".format(f1_score(labels, pred)))"
   ]
  },
  {
   "cell_type": "markdown",
   "metadata": {},
   "source": [
    "The performance results of two simple way to select threshold are as following, which based on how well the test data match their test labels.\n",
    "\n",
    "The test result is considerably poor."
   ]
  },
  {
   "cell_type": "code",
   "execution_count": 84,
   "metadata": {
    "ExecuteTime": {
     "end_time": "2022-04-30T01:54:22.819732Z",
     "start_time": "2022-04-30T01:54:21.905185Z"
    }
   },
   "outputs": [
    {
     "data": {
      "image/png": "[encoded data removed]",
      "text/plain": [
       "<Figure size 432x288 with 1 Axes>"
      ]
     },
     "metadata": {
      "needs_background": "light"
     },
     "output_type": "display_data"
    },
    {
     "name": "stdout",
     "output_type": "stream",
     "text": [
      "threshold seleted to: 0.010828985830982971\n",
      "threshold2 seleted to: 0.015957395165237975\n",
      "Accuracy = 0.06901603948180136\n",
      "Precision = 0.0\n",
      "Recall = 0.0\n",
      "F1 = 0.0\n",
      "Accuracy = 0.023827884022208513\n",
      "Precision = 0.0\n",
      "Recall = 0.0\n",
      "F1 = 0.0\n"
     ]
    }
   ],
   "source": [
    "X_test = test_data.copy()\n",
    "X_test = X_test.drop(['classification'], axis=1)\n",
    "x_test_scaled = min_max_scaler.fit_transform(X_test)\n",
    "\n",
    "threshold = find_threshold(model, x_train_scaled)\n",
    "threshold_2 = find_threshold_method_two(model, x_train_scaled)\n",
    "\n",
    "test_result(threshold, x_test_scaled, test_data['classification'])\n",
    "test_result(threshold_2, x_test_scaled, test_data['classification'])\n"
   ]
  },
  {
   "cell_type": "markdown",
   "metadata": {
    "ExecuteTime": {
     "end_time": "2022-04-24T18:58:20.334807Z",
     "start_time": "2022-04-24T18:58:13.106Z"
    }
   },
   "source": [
    "Reference:\n",
    "https://www.tensorflow.org/tutorials/generative/autoencoder#first_example_basic_autoencoder\n"
   ]
  },
  {
   "cell_type": "markdown",
   "metadata": {},
   "source": [
    "Two previous simple selection of threshould don't work well. We try to find best threshold by iteration potential values.\n",
    "\n",
    "We first compute mse anomaly socores both of *normal_train_data* and *outlier_validation_data*. Then we loop to find the best one from all threshold candidates."
   ]
  },
  {
   "cell_type": "code",
   "execution_count": 87,
   "metadata": {
    "ExecuteTime": {
     "end_time": "2022-04-30T01:55:58.408052Z",
     "start_time": "2022-04-30T01:55:58.031611Z"
    }
   },
   "outputs": [
    {
     "name": "stdout",
     "output_type": "stream",
     "text": [
      "[0.00013387 0.00077238 0.0093122  ... 0.00040412 0.03210171 0.00567915]\n",
      "[ 42.94482374  22.85162431 491.20048822 ... 231.40231777  24.19619127\n",
      "  16.20332175]\n"
     ]
    }
   ],
   "source": [
    "normal_train_data_scaled = min_max_scaler.fit_transform(x_train_scaled)\n",
    "inlier_scores = compute_anomaly_score(model, normal_train_data_scaled)\n",
    "\n",
    "x_anormal = anormal_valid.copy()\n",
    "x_anormal = x_anormal.drop(['classification'], axis=1)\n",
    "x_anormal = min_max_scaler.transform(x_anormal)\n",
    "outlier_scores = compute_anomaly_score(model, x_anormal)\n",
    "\n",
    "print(inlier_scores)\n",
    "print(outlier_scores)"
   ]
  },
  {
   "cell_type": "markdown",
   "metadata": {},
   "source": [
    "These are my functions to select best threshold through iteration.\n",
    "\n",
    "Iterate all threshold candidates through inlier_scores and outlier_scores as previously counted. Test it on *validation dataset* to select best f1 score to select best threshold."
   ]
  },
  {
   "cell_type": "code",
   "execution_count": 67,
   "metadata": {
    "ExecuteTime": {
     "end_time": "2022-04-30T01:33:12.109527Z",
     "start_time": "2022-04-30T01:33:12.100198Z"
    }
   },
   "outputs": [],
   "source": [
    "import os\n",
    "def get_scores_and_labels(outlier_score, inlier_score):\n",
    "    zero_vec = np.zeros(len(inlier_score))\n",
    "    one_vec = np.ones(len(outlier_score))\n",
    "\n",
    "    all_scores = list(inlier_score) + list(outlier_score)\n",
    "    all_labels = list(zero_vec) + list(one_vec)\n",
    "\n",
    "    return all_scores, all_labels\n",
    "\n",
    "def test_threshold(threshold, loss, y):\n",
    "    y_pred = np.array([1 if e > threshold else 0 for e in loss]).astype(int)\n",
    "    f1_totol = f1_score(y, y_pred)\n",
    "    metrics = {\"f1\": f1_totol,\n",
    "               \"threshold\": round(threshold, 3)}\n",
    "    return metrics\n",
    "\n",
    "def evaluate_model(inlier_score, outlier_score, model_name=\"_\", show_plot=True):\n",
    "    image_directory = \"metrics/\" + model_name\n",
    "    if not os.path.exists(image_directory):\n",
    "        os.makedirs(image_directory)\n",
    "\n",
    "    all_scores, all_labels = get_scores_and_labels(\n",
    "        outlier_score, inlier_score)\n",
    "    all_thresholds = list(set(all_scores))\n",
    "    all_thresholds.sort()\n",
    "\n",
    "    print(str(len(all_thresholds)) + \"unique thresholds\")\n",
    "    print(\"Testing all thresholds to find best accuracy ...\")\n",
    "    metric_holder = []\n",
    "\n",
    "    for threshold in all_thresholds:\n",
    "        metrics = test_threshold(threshold, all_scores, all_labels)\n",
    "        metric_holder.append(metrics)\n",
    "\n",
    "    print(\"Threshold testing complete ...\")\n",
    "\n",
    "    metric_df = pd.DataFrame(metric_holder)\n",
    "    max_acc = metric_df.sort_values(\n",
    "        by='f1', ascending=False, na_position='first').iloc[0]\n",
    "    print('We select best accuracy test on validation dataset to find best threshold, which is ' + str(dict(max_acc)))\n",
    "    return max_acc['threshold']\n"
   ]
  },
  {
   "cell_type": "markdown",
   "metadata": {},
   "source": [
    "As we determined the threshold through *training normal data as inlier scores*, and *anormal_validation data as outlier scores*, we take the threshold to test it in all *test dataset* which name is x_test_scaled.\n"
   ]
  },
  {
   "cell_type": "code",
   "execution_count": 68,
   "metadata": {
    "ExecuteTime": {
     "end_time": "2022-04-30T01:39:21.889860Z",
     "start_time": "2022-04-30T01:35:26.253404Z"
    }
   },
   "outputs": [
    {
     "name": "stdout",
     "output_type": "stream",
     "text": [
      "18964unique thresholds\n",
      "Testing all thresholds to find best accuracy ...\n",
      "Threshold testing complete ...\n",
      "We select best accuracy test on validation dataset to find best threshold, which is {'f1': 1.0, 'threshold': 0.209}\n"
     ]
    }
   ],
   "source": [
    "threshold_3 = evaluate_model(inlier_scores, outlier_scores, model_name=\"autoencoder\", show_plot=True)\n"
   ]
  },
  {
   "cell_type": "markdown",
   "metadata": {},
   "source": [
    "As we get best threshold tested on validation dataset, we put this threshold into the test of test dataset.\n",
    "\n",
    "And here's our result."
   ]
  },
  {
   "cell_type": "code",
   "execution_count": 77,
   "metadata": {
    "ExecuteTime": {
     "end_time": "2022-04-30T01:49:30.513169Z",
     "start_time": "2022-04-30T01:49:30.255851Z"
    }
   },
   "outputs": [
    {
     "name": "stdout",
     "output_type": "stream",
     "text": [
      "Accuracy = 0.8150061690314621\n",
      "Precision = 0.9219295184926727\n",
      "Recall = 0.8754245009525388\n",
      "F1 = 0.8980753706929515\n"
     ]
    }
   ],
   "source": [
    "X_test = test_data.copy()\n",
    "X_test = X_test.drop(['classification'], axis=1)\n",
    "x_test_scaled = min_max_scaler.fit_transform(X_test)\n",
    "test_result(threshold_3, x_test_scaled, test_data['classification'])"
   ]
  }
 ],
 "metadata": {
  "kernelspec": {
   "display_name": "Python 3",
   "language": "python",
   "name": "python3"
  },
  "language_info": {
   "codemirror_mode": {
    "name": "ipython",
    "version": 3
   },
   "file_extension": ".py",
   "mimetype": "text/x-python",
   "name": "python",
   "nbconvert_exporter": "python",
   "pygments_lexer": "ipython3",
   "version": "3.7.4"
  },
  "latex_envs": {
   "LaTeX_envs_menu_present": true,
   "autoclose": false,
   "autocomplete": true,
   "bibliofile": "biblio.bib",
   "cite_by": "apalike",
   "current_citInitial": 1,
   "eqLabelWithNumbers": true,
   "eqNumInitial": 1,
   "hotkeys": {
    "equation": "Ctrl-E",
    "itemize": "Ctrl-I"
   },
   "labels_anchors": false,
   "latex_user_defs": false,
   "report_style_numbering": false,
   "user_envs_cfg": false
  },
  "toc": {
   "base_numbering": 1,
   "nav_menu": {},
   "number_sections": true,
   "sideBar": true,
   "skip_h1_title": false,
   "title_cell": "Table of Contents",
   "title_sidebar": "Contents",
   "toc_cell": false,
   "toc_position": {},
   "toc_section_display": true,
   "toc_window_display": false
  },
  "varInspector": {
   "cols": {
    "lenName": 16,
    "lenType": 16,
    "lenVar": 40
   },
   "kernels_config": {
    "python": {
     "delete_cmd_postfix": "",
     "delete_cmd_prefix": "del ",
     "library": "var_list.py",
     "varRefreshCmd": "print(var_dic_list())"
    },
    "r": {
     "delete_cmd_postfix": ") ",
     "delete_cmd_prefix": "rm(",
     "library": "var_list.r",
     "varRefreshCmd": "cat(var_dic_list()) "
    }
   },
   "types_to_exclude": [
    "module",
    "function",
    "builtin_function_or_method",
    "instance",
    "_Feature"
   ],
   "window_display": false
  }
 },
 "nbformat": 4,
 "nbformat_minor": 2
}
